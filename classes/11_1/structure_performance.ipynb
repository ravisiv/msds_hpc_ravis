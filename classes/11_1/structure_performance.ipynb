{
 "cells": [
  {
   "cell_type": "code",
   "execution_count": 1,
   "id": "6e81a3ee-8611-44a7-b49f-cb4dd58e54a6",
   "metadata": {},
   "outputs": [],
   "source": [
    "import os\n",
    "from random import random\n",
    "import itertools as it\n",
    "from timeit import timeit\n",
    "import numpy as np\n",
    "import pandas as pd"
   ]
  },
  {
   "cell_type": "code",
   "execution_count": 2,
   "id": "ac837032-b462-4990-a965-7d66f5b7647a",
   "metadata": {},
   "outputs": [],
   "source": [
    "class Data(object):\n",
    "    pass"
   ]
  },
  {
   "cell_type": "code",
   "execution_count": 3,
   "id": "bc2b8b22-d4b0-4010-bc3e-e7be033118d8",
   "metadata": {},
   "outputs": [],
   "source": [
    "s = 2000000\n",
    "n = 20"
   ]
  },
  {
   "cell_type": "code",
   "execution_count": 4,
   "id": "bcbfb025-b66f-48de-898d-755b36f54b13",
   "metadata": {},
   "outputs": [],
   "source": [
    "def a_of_f(d, s):\n",
    "    with open(os.path.join(d, \"x\"), mode='w') as x_f:\n",
    "        for i in range(s):\n",
    "            x_f.write(\"{}\\n\".format(random()))\n",
    "    with open(os.path.join(d, \"y\"), mode='w') as y_f:\n",
    "        for i in range(s):\n",
    "            y_f.write(\"{}\\n\".format(random()))\n",
    "    with open(os.path.join(d, \"p\"), mode='w') as p_f:\n",
    "        with open(os.path.join(d, \"x\"), mode='r') as x_f:\n",
    "            with open(os.path.join(d, \"y\"), mode='r') as y_f:\n",
    "                x = float(x_f.readline())\n",
    "                y = float(y_f.readline())\n",
    "                p_f.write(\"{}\\n\".format(x * y))\n",
    "    return None"
   ]
  },
  {
   "cell_type": "code",
   "execution_count": 5,
   "id": "c4b77cca-28f9-44e6-99ca-14338757a378",
   "metadata": {},
   "outputs": [
    {
     "data": {
      "text/plain": [
       "104.11219362542033"
      ]
     },
     "execution_count": 5,
     "metadata": {},
     "output_type": "execute_result"
    }
   ],
   "source": [
    "d = \"/dev/shm\"\n",
    "timeit(\"a_of_f(d, s)\", globals=globals(), number=n)"
   ]
  },
  {
   "cell_type": "code",
   "execution_count": 6,
   "id": "2f01e032-4b87-4bf3-9f69-195e8f0acff3",
   "metadata": {},
   "outputs": [],
   "source": [
    "def a_of_s(s):\n",
    "    data = []\n",
    "    for i in range(s):\n",
    "        d = Data()\n",
    "        d.x = random()\n",
    "        d.y = random()\n",
    "        data.append(d)\n",
    "        data[i].p = data[i].x * data[i].y\n",
    "    return None"
   ]
  },
  {
   "cell_type": "code",
   "execution_count": 7,
   "id": "b8d44928-6c44-414a-95d9-28093eb267f4",
   "metadata": {},
   "outputs": [
    {
     "data": {
      "text/plain": [
       "38.74208383541554"
      ]
     },
     "execution_count": 7,
     "metadata": {},
     "output_type": "execute_result"
    }
   ],
   "source": [
    "timeit(\"a_of_s(s)\", globals=globals(), number=n)"
   ]
  },
  {
   "cell_type": "code",
   "execution_count": 8,
   "id": "c326d73c-143a-4884-88de-b4b1e57381fa",
   "metadata": {},
   "outputs": [],
   "source": [
    "def s_of_a_1(s):\n",
    "    d = Data()\n",
    "    d.x = [random() for _ in range(s)]\n",
    "    d.y = [random() for _ in range(s)]\n",
    "    for i in range(s):\n",
    "        d.p = d.x[i] * d.x[i]\n",
    "    return None"
   ]
  },
  {
   "cell_type": "code",
   "execution_count": 9,
   "id": "c3cea7f1-57e9-4452-8cdf-1d81bde75b80",
   "metadata": {},
   "outputs": [
    {
     "data": {
      "text/plain": [
       "18.31293992884457"
      ]
     },
     "execution_count": 9,
     "metadata": {},
     "output_type": "execute_result"
    }
   ],
   "source": [
    "timeit(\"s_of_a_1(s)\", globals=globals(), number=n)"
   ]
  },
  {
   "cell_type": "code",
   "execution_count": 10,
   "id": "ae852dbb-82c4-4dec-8f90-596d9d682703",
   "metadata": {},
   "outputs": [],
   "source": [
    "def s_of_a_2(s):\n",
    "    d = Data()\n",
    "    d.x = [random() for _ in range(s)]\n",
    "    d.y = [random() for _ in range(s)]\n",
    "    d.p = [x * y for x, y in zip(d.x, d.y)]\n",
    "    return None"
   ]
  },
  {
   "cell_type": "code",
   "execution_count": 11,
   "id": "27c002cf-7d63-4699-986d-6a12b0351afa",
   "metadata": {},
   "outputs": [
    {
     "data": {
      "text/plain": [
       "15.324300048872828"
      ]
     },
     "execution_count": 11,
     "metadata": {},
     "output_type": "execute_result"
    }
   ],
   "source": [
    "timeit(\"s_of_a_2(s)\", globals=globals(), number=n)"
   ]
  },
  {
   "cell_type": "code",
   "execution_count": 12,
   "id": "a2057bf7-52a9-484f-a37d-89a1a0906796",
   "metadata": {},
   "outputs": [],
   "source": [
    "def s_of_a_3(s):\n",
    "    d = Data()\n",
    "    d.x = np.random.rand(s)\n",
    "    d.y = np.random.rand(s)\n",
    "    d.p = d.x * d.y\n",
    "    return None"
   ]
  },
  {
   "cell_type": "code",
   "execution_count": 13,
   "id": "4d5c3a74-a8a9-4919-b908-e1a653718ea1",
   "metadata": {},
   "outputs": [
    {
     "data": {
      "text/plain": [
       "1.4176836051046848"
      ]
     },
     "execution_count": 13,
     "metadata": {},
     "output_type": "execute_result"
    }
   ],
   "source": [
    "timeit(\"s_of_a_3(s)\", globals=globals(), number=n)"
   ]
  },
  {
   "cell_type": "code",
   "execution_count": 14,
   "id": "dca252d6-8fcf-45b1-baa7-eb794a911b64",
   "metadata": {},
   "outputs": [],
   "source": [
    "def a_of_d(s):\n",
    "    d = []\n",
    "    for _ in range(s):\n",
    "        d.append({'x': random(),'y': random()})\n",
    "    for i in range(s):\n",
    "        d[i].update({'p': d[i]['x'] * d[i]['y']})\n",
    "    return None"
   ]
  },
  {
   "cell_type": "code",
   "execution_count": 15,
   "id": "4c27139e-bd9b-46cd-b3ff-020bdfecb5e8",
   "metadata": {},
   "outputs": [
    {
     "data": {
      "text/plain": [
       "43.61342203989625"
      ]
     },
     "execution_count": 15,
     "metadata": {},
     "output_type": "execute_result"
    }
   ],
   "source": [
    "timeit(\"a_of_d(s)\", globals=globals(), number=n)"
   ]
  },
  {
   "cell_type": "code",
   "execution_count": 16,
   "id": "78cb8562-12e5-4508-9329-dd5202ac101c",
   "metadata": {},
   "outputs": [],
   "source": [
    "def d_of_a_0(s):\n",
    "    d = {'x': [random() for _ in range(s)],\n",
    "         'y': [random() for _ in range(s)],\n",
    "         'p': []}\n",
    "    for i in range(s):\n",
    "        d['p'].append(d['x'][i] * d['y'][i])\n",
    "    return None"
   ]
  },
  {
   "cell_type": "code",
   "execution_count": 17,
   "id": "c65cec0e-3a35-4056-a863-d55158a829b9",
   "metadata": {},
   "outputs": [
    {
     "data": {
      "text/plain": [
       "21.333899492397904"
      ]
     },
     "execution_count": 17,
     "metadata": {},
     "output_type": "execute_result"
    }
   ],
   "source": [
    "timeit(\"d_of_a_0(s)\", globals=globals(), number=n)"
   ]
  },
  {
   "cell_type": "code",
   "execution_count": 18,
   "id": "10bc3612-abaa-4e5d-bb81-c363d812b6f2",
   "metadata": {},
   "outputs": [],
   "source": [
    "def d_of_a_1(s):\n",
    "    d = {'x': np.random.rand(s),\n",
    "         'y': np.random.rand(s)}\n",
    "    d.update({'p': d['x'] * d['y']})\n",
    "    return None"
   ]
  },
  {
   "cell_type": "code",
   "execution_count": 19,
   "id": "4d6eb44c-eb1a-4aa5-864f-b21234ebfe82",
   "metadata": {},
   "outputs": [
    {
     "data": {
      "text/plain": [
       "1.3658799715340137"
      ]
     },
     "execution_count": 19,
     "metadata": {},
     "output_type": "execute_result"
    }
   ],
   "source": [
    "timeit(\"d_of_a_1(s)\", globals=globals(), number=n)"
   ]
  },
  {
   "cell_type": "code",
   "execution_count": 20,
   "id": "902c847e-b72f-4b7f-88c2-f625dd7a2ea3",
   "metadata": {},
   "outputs": [],
   "source": [
    "def pandas(s):\n",
    "    df = pd.DataFrame({'x': np.random.rand(s), 'y': np.random.rand(s)})\n",
    "    df['p'] = df.x * df.y\n",
    "    return None"
   ]
  },
  {
   "cell_type": "code",
   "execution_count": 21,
   "id": "bd397db3-680e-479b-aee5-31d14922c998",
   "metadata": {},
   "outputs": [
    {
     "data": {
      "text/plain": [
       "1.694289131090045"
      ]
     },
     "execution_count": 21,
     "metadata": {},
     "output_type": "execute_result"
    }
   ],
   "source": [
    "timeit(\"pandas(s)\", globals=globals(), number=n)"
   ]
  },
  {
   "cell_type": "code",
   "execution_count": 22,
   "id": "d250ac49-cbf5-41b5-a6bb-2a84ec71c03c",
   "metadata": {},
   "outputs": [],
   "source": [
    "df = pd.DataFrame({'x': np.random.rand(s), 'y': np.random.rand(s)})"
   ]
  },
  {
   "cell_type": "code",
   "execution_count": 23,
   "id": "68cb89e6-0df1-4081-815d-13a0ab784ef3",
   "metadata": {},
   "outputs": [
    {
     "data": {
      "text/plain": [
       "x    float64\n",
       "y    float64\n",
       "dtype: object"
      ]
     },
     "execution_count": 23,
     "metadata": {},
     "output_type": "execute_result"
    }
   ],
   "source": [
    "df.dtypes"
   ]
  },
  {
   "cell_type": "code",
   "execution_count": 25,
   "id": "eca7e529-499b-47d0-8a11-dd5a2e9ab9cc",
   "metadata": {},
   "outputs": [],
   "source": [
    "def access_0(s):\n",
    "    d = Data()\n",
    "    d.x = np.random.rand(s)\n",
    "    d.y = np.random.rand(s)\n",
    "    d.p = d.x * d.y\n",
    "    d.sum = np.sum(d.p)\n",
    "    return None"
   ]
  },
  {
   "cell_type": "code",
   "execution_count": 26,
   "id": "49cba650-ecf0-46f3-bb3f-37dbbbc23819",
   "metadata": {},
   "outputs": [
    {
     "data": {
      "text/plain": [
       "6.148427282460034"
      ]
     },
     "execution_count": 26,
     "metadata": {},
     "output_type": "execute_result"
    }
   ],
   "source": [
    "timeit(\"access_0(s)\", globals=globals(), number=n*5)"
   ]
  },
  {
   "cell_type": "code",
   "execution_count": 27,
   "id": "d078cbc2-fa42-48bc-8bef-54b5932cd8c6",
   "metadata": {},
   "outputs": [],
   "source": [
    "def access_1(s):\n",
    "    d = {'x': np.random.rand(s),\n",
    "         'y': np.random.rand(s)}\n",
    "    d.update({'p': d['x'] * d['y']})\n",
    "    d.update({'sum': np.sum(d['p'])})\n",
    "    return None"
   ]
  },
  {
   "cell_type": "code",
   "execution_count": 28,
   "id": "3c373912-dd5e-4691-82be-a6bd3c0e90d7",
   "metadata": {},
   "outputs": [
    {
     "data": {
      "text/plain": [
       "6.323617779649794"
      ]
     },
     "execution_count": 28,
     "metadata": {},
     "output_type": "execute_result"
    }
   ],
   "source": [
    "timeit(\"access_1(s)\", globals=globals(), number=n*5)"
   ]
  },
  {
   "cell_type": "code",
   "execution_count": 29,
   "id": "8985f38f-9ef3-4a8e-affa-d31357f02c54",
   "metadata": {},
   "outputs": [],
   "source": [
    "def access_2(s):\n",
    "    df = pd.DataFrame({'x': np.random.rand(s), 'y': np.random.rand(s)})\n",
    "    df['p'] = df.x * df.y\n",
    "    df['sum'] = df.p.sum()\n",
    "    return None"
   ]
  },
  {
   "cell_type": "code",
   "execution_count": 30,
   "id": "50df05ab-3f02-4716-8a10-cd5407a6a708",
   "metadata": {},
   "outputs": [
    {
     "data": {
      "text/plain": [
       "7.231171305291355"
      ]
     },
     "execution_count": 30,
     "metadata": {},
     "output_type": "execute_result"
    }
   ],
   "source": [
    "timeit(\"access_2(s)\", globals=globals(), number=n*5)"
   ]
  },
  {
   "cell_type": "code",
   "execution_count": null,
   "id": "a0768bd7-6a5a-4d58-89a2-754463fb630e",
   "metadata": {},
   "outputs": [],
   "source": []
  }
 ],
 "metadata": {
  "kernelspec": {
   "display_name": "Python 3 (ipykernel)",
   "language": "python",
   "name": "python3"
  },
  "language_info": {
   "codemirror_mode": {
    "name": "ipython",
    "version": 3
   },
   "file_extension": ".py",
   "mimetype": "text/x-python",
   "name": "python",
   "nbconvert_exporter": "python",
   "pygments_lexer": "ipython3",
   "version": "3.9.10"
  }
 },
 "nbformat": 4,
 "nbformat_minor": 5
}
