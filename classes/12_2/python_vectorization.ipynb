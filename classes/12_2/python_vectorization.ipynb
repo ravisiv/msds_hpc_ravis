{
 "cells": [
  {
   "cell_type": "code",
   "execution_count": null,
   "metadata": {},
   "outputs": [],
   "source": [
    "import random, time\n",
    "import numpy as np\n",
    "import pandas as pd\n",
    "import multiprocessing as mp\n",
    "import numba as nb"
   ]
  },
  {
   "cell_type": "markdown",
   "metadata": {},
   "source": [
    "# Topics\n",
    "\n",
    "1. Python Functions\n",
    "2. NumPy\n",
    "3. Multiprocessing\n",
    "4. Cython\n",
    "5. Numba"
   ]
  },
  {
   "cell_type": "markdown",
   "metadata": {},
   "source": [
    "## Python Functions\n"
   ]
  },
  {
   "cell_type": "markdown",
   "metadata": {},
   "source": [
    "```\n",
    "def function_name(optional_parameters):\n",
    "    function_code\n",
    "    return optional_return_variables\n",
    "```\n",
    "\n",
    "Functions encapsulate a set of instructions that can be reused. The following tips for faster Python all benefit from writing code that is well functionalized. Further, using functions are generally a good coding practice as they allow for the blocks of code to be written once and then reused many times. Then if the code needs to be updated it only needs to be updated once and not many times.\n",
    "\n",
    "### Example: Functions estimating π via a Monte-Carlo algorithm"
   ]
  },
  {
   "cell_type": "code",
   "execution_count": null,
   "metadata": {},
   "outputs": [],
   "source": [
    "def monte_carlo_pi(points):\n",
    "    s = 0\n",
    "    for _ in range(points):\n",
    "        x = random.random()**2\n",
    "        y = random.random()**2\n",
    "        if x + y < 1:\n",
    "            s += 1\n",
    "    return 4. * float(s) / float(points)\n",
    "\n",
    "def sample_points(p):\n",
    "    s = []\n",
    "    for i in range(p):\n",
    "        s.append(monte_carlo_pi(10**p))\n",
    "    return s\n",
    "\n",
    "def print_sample(s):\n",
    "    for p in s:\n",
    "        print(p)"
   ]
  },
  {
   "cell_type": "code",
   "execution_count": null,
   "metadata": {},
   "outputs": [],
   "source": [
    "print_sample(sample_points(7))"
   ]
  },
  {
   "cell_type": "markdown",
   "metadata": {},
   "source": [
    "### Example: unctions estimating π via a Gauss–Legendre algorithm\n",
    "\n",
    "Initial:\n",
    "\n",
    "$a_0 = 1$\n",
    "\n",
    "$b_0 = \\frac{1}{\\sqrt{2}}$\n",
    "\n",
    "$t_0 = \\frac{1}{4}$\n",
    "\n",
    "$p_0 = 1$\n",
    "\n",
    "Loop until $a_{n}$ and $b_{n}$ difference meets threashold:\n",
    "\n",
    "$a_{n+1} = \\frac{a_{n}+b_{n}}{2}$\n",
    "\n",
    "$b_{n+1} = \\sqrt{a_{n}b_{n}}$\n",
    "\n",
    "$t_{n+1} = t_{n}-p_{n}\\sqrt{a_{n}-a_{n+1}}$\n",
    "\n",
    "$p_{n+1} = 2p_{n}$\n",
    "\n",
    "$\\pi \\approx \\frac{(a_{n+1}+b_{n+1})^2}{4t_{n+1}}$"
   ]
  },
  {
   "cell_type": "code",
   "execution_count": null,
   "metadata": {},
   "outputs": [],
   "source": [
    "def gauss_legendre_pi(d):\n",
    "    a = 1.\n",
    "    b = 2.**(-1/2)\n",
    "    t = 1./4\n",
    "    p = 1.\n",
    "    threshold_not_met = True\n",
    "    while threshold_not_met:\n",
    "        if a-b > d:\n",
    "            an = (a+b)/2\n",
    "            bn = (a*b)**(1/2)\n",
    "            tn = t-p*(a-an)**2\n",
    "            pn = 2*p\n",
    "            pi = ((an+bn)**2)/(4*tn)\n",
    "            a = an\n",
    "            b = bn\n",
    "            t = tn\n",
    "            p = pn\n",
    "        else:\n",
    "            threshold_not_met = False\n",
    "    return pi"
   ]
  },
  {
   "cell_type": "code",
   "execution_count": null,
   "metadata": {},
   "outputs": [],
   "source": [
    "gauss_legendre_pi(0.00001)"
   ]
  },
  {
   "cell_type": "markdown",
   "metadata": {},
   "source": [
    "## [multiprocessing](https://docs.python.org/3.6/library/multiprocessing.html)\n",
    "\n",
    "`multiprocessing` is a package that supports spawning processes using an API similar to the threading module. The multiprocessing package offers both local and remote concurrency, effectively side-stepping the Global Interpreter Lock by using subprocesses instead of threads. Due to this, the multiprocessing module allows the programmer to fully leverage multiple processors on a given machine. It runs on both Unix and Windows.\n",
    "\n",
    "The multiprocessing module also introduces APIs which do not have analogs in the threading module. A prime example of this is the `Pool` object which offers a convenient means of parallelizing the execution of a function across multiple input values, distributing the input data across processes (data parallelism). The following example demonstrates the common practice of defining such functions in a module so that child processes can successfully import that module. This basic example of data parallelism using `Pool`:"
   ]
  },
  {
   "cell_type": "code",
   "execution_count": null,
   "metadata": {},
   "outputs": [],
   "source": [
    "# Import multiprocessing module\n",
    "import multiprocessing as mp\n",
    "\n",
    "# Define function that can be run in parallel\n",
    "def printHello(thread):\n",
    "    print(\"Hello from process \" + str(thread) + \"!\")\n",
    "\n",
    "def run_tasks():\n",
    "    jobs = []\n",
    "    # Launch processes\n",
    "    for i in range(4):\n",
    "        p = mp.Process(target = printHello, args = (i,))\n",
    "        jobs.append(p)\n",
    "        p.start()"
   ]
  },
  {
   "cell_type": "code",
   "execution_count": null,
   "metadata": {},
   "outputs": [],
   "source": [
    "run_tasks()"
   ]
  },
  {
   "cell_type": "code",
   "execution_count": null,
   "metadata": {},
   "outputs": [],
   "source": [
    "def point(points):\n",
    "    np.random.seed()\n",
    "    hit = 0\n",
    "    for i in range(0, points):\n",
    "        x = np.power(np.random.rand(1), 2)\n",
    "        y = np.power(np.random.rand(1), 2)\n",
    "        if np.sqrt(x + y) <= 1:\n",
    "            hit += 1\n",
    "    return hit\n",
    "\n",
    "def run_parallel_pi(points=100, cores=1):\n",
    "    # Setup variables\n",
    "    points_per_core = int(points / cores)\n",
    "    n = [points_per_core] * cores\n",
    "    n[0] = points_per_core + (points - (points_per_core * cores))\n",
    "\n",
    "    # Launch processes\n",
    "    pool = mp.Pool(processes = cores)\n",
    "    results = pool.map(point, n)\n",
    "\n",
    "    # Display results\n",
    "    print(\"Hits: {0}\".format(results))\n",
    "    print(\"Pi Est: {0}\".format(4. * np.sum(results) / float(points)))"
   ]
  },
  {
   "cell_type": "code",
   "execution_count": null,
   "metadata": {},
   "outputs": [],
   "source": [
    "run_parallel_pi()"
   ]
  },
  {
   "cell_type": "markdown",
   "metadata": {},
   "source": [
    "### Example: A parallel AXPY implementation\n",
    "\n",
    "A times X plus Y, where A is a scalar and X and Y are vectors. Hints: [`Pool.starmap`](https://docs.python.org/3.6/library/multiprocessing.html#multiprocessing.pool.Pool.starmap) and [`itertools.repeat`](https://docs.python.org/3.6/library/itertools.html#itertools.repeat)."
   ]
  },
  {
   "cell_type": "code",
   "execution_count": null,
   "metadata": {},
   "outputs": [],
   "source": []
  },
  {
   "cell_type": "markdown",
   "metadata": {},
   "source": [
    "## [NumPy](https://numpy.org)\n",
    "\n",
    "NumPy is the fundamental package for scientific computing with Python. It contains among other things:\n",
    "\n",
    "* a powerful N-dimensional array object\n",
    "* sophisticated (broadcasting) functions\n",
    "* tools for integrating C/C++ and Fortran code\n",
    "* useful linear algebra, Fourier transform, and random number capabilities\n",
    "\n",
    "Besides its obvious scientific uses, NumPy can also be used as an efficient multi-dimensional container of generic data. Arbitrary data-types can be defined. This allows NumPy to seamlessly and speedily integrate with a wide variety of databases.\n",
    "\n",
    "Many NumPy functions are compiled libraries using fast BLAS and LAPACK implementations. These functions and functions built on top of NumPy functions will likely run faster than pure Python implementations.\n",
    "\n",
    "### Example: Python Matrix-Matrix Multiplication"
   ]
  },
  {
   "cell_type": "code",
   "execution_count": null,
   "metadata": {},
   "outputs": [],
   "source": [
    "def initialize_matrix(m, n, fill=0):\n",
    "    matrix = []\n",
    "    for i in range(m):\n",
    "        row = []\n",
    "        for j in range(n):\n",
    "            if fill == 0:\n",
    "                f = 0\n",
    "            else:\n",
    "                f = random.random()\n",
    "            row.append(f)\n",
    "        matrix.append(row)\n",
    "    return matrix\n",
    "\n",
    "def gemm(matrix_a, matrix_b):\n",
    "    m = len(matrix_a[:][0])\n",
    "    n = len(matrix_b[:][0])\n",
    "    p = len(matrix_a[0][:])\n",
    "    matrix_c = initialize_matrix(m, p)\n",
    "    for i in range(m):\n",
    "        for j in range(p):\n",
    "            for k in range(n):\n",
    "                matrix_c[i][j] += matrix_a[i][k]*matrix_b[k][j]\n",
    "    return matrix_c"
   ]
  },
  {
   "cell_type": "code",
   "execution_count": null,
   "metadata": {},
   "outputs": [],
   "source": [
    "matrix_a = [[1,2],[3,4]]\n",
    "matrix_b = [[1,2],[3,4]]\n",
    "matrix_c = gemm(matrix_a, matrix_b)\n",
    "print(matrix_c)"
   ]
  },
  {
   "cell_type": "code",
   "execution_count": null,
   "metadata": {},
   "outputs": [],
   "source": [
    "matrix_a = np.array(matrix_a)\n",
    "matrix_b = np.array(matrix_b)\n",
    "matrix_c = np.matmul(matrix_a, matrix_b)\n",
    "print(matrix_c)"
   ]
  },
  {
   "cell_type": "markdown",
   "metadata": {},
   "source": [
    "### Example: A function that compares the speed of Python and NumPy implementations of matrix-matrix multiplication\n",
    "\n",
    "Use random square matrices of size 500, 1000, and 1500. Time the intialization and multiplication collectively using `time.time()`. Hints: [`rand()`](https://docs.scipy.org/doc/numpy-1.14.0/reference/generated/numpy.random.rand.html) and [`matmul()`](https://docs.scipy.org/doc/numpy/reference/generated/numpy.matmul.html)."
   ]
  },
  {
   "cell_type": "code",
   "execution_count": null,
   "metadata": {},
   "outputs": [],
   "source": [
    "from itertools import repeat\n",
    "\n",
    "def axpy(a, xi, yi):\n",
    "    return a*xi+yi\n",
    "\n",
    "def parallel_axpy(a, x, y, cores=1):\n",
    "    pool = mp.Pool(processes = cores)\n",
    "    result = pool.starmap(axpy, zip(repeat(a), x, y))\n",
    "    return result"
   ]
  },
  {
   "cell_type": "markdown",
   "metadata": {},
   "source": [
    "## [Cython](https://cython.org)\n",
    "\n",
    "Cython is an optimising static compiler for both the Python programming language and the extended Cython programming language (based on Pyrex). It makes writing C extensions for Python as easy as Python itself.\n",
    "\n",
    "Cython gives you the combined power of Python and C to let you\n",
    "\n",
    "* Write Python code that calls back and forth from and to C or C++ code natively at any point.\n",
    "* Easily tune readable Python code into plain C performance by adding static type declarations, also in Python syntax.\n",
    "* Use combined source code level debugging to find bugs in your Python, Cython and C code.\n",
    "* Interact efficiently with large data sets, e.g. using multi-dimensional NumPy arrays.\n",
    "* Quickly build your applications within the large, mature and widely used CPython ecosystem.\n",
    "* Integrate natively with existing code and data from legacy, low-level or high-performance libraries and applications.\n"
   ]
  },
  {
   "cell_type": "code",
   "execution_count": null,
   "metadata": {},
   "outputs": [],
   "source": [
    "def py_primes(nb_primes):\n",
    "    n = 2\n",
    "    p = []\n",
    "    while len(p) < nb_primes:\n",
    "        for i in p:\n",
    "            if n % i == 0:\n",
    "                break\n",
    "        else:\n",
    "            p.append(n)\n",
    "        n += 1\n",
    "    return p"
   ]
  },
  {
   "cell_type": "code",
   "execution_count": null,
   "metadata": {},
   "outputs": [],
   "source": [
    "%load_ext cython"
   ]
  },
  {
   "cell_type": "code",
   "execution_count": null,
   "metadata": {},
   "outputs": [],
   "source": [
    "%%cython -a -f\n",
    "def cy_primes(int nb_primes):\n",
    "    cdef int n, i, len_p\n",
    "    cdef int p[1000]\n",
    "    if nb_primes > 1000:\n",
    "        nb_primes = 1000\n",
    "    len_p = 0\n",
    "    n = 2\n",
    "    while len_p < nb_primes:\n",
    "        for i in p[:len_p]:\n",
    "            if n % i == 0:\n",
    "                break\n",
    "        else:\n",
    "            p[len_p] = n\n",
    "            len_p += 1\n",
    "        n += 1\n",
    "    result_as_list  = [prime for prime in p[:len_p]]\n",
    "    return result_as_list"
   ]
  },
  {
   "cell_type": "code",
   "execution_count": null,
   "metadata": {},
   "outputs": [],
   "source": [
    "%timeit py_primes(100)"
   ]
  },
  {
   "cell_type": "code",
   "execution_count": null,
   "metadata": {},
   "outputs": [],
   "source": [
    "%timeit cy_primes(100)"
   ]
  },
  {
   "cell_type": "markdown",
   "metadata": {},
   "source": [
    "### Example: A function that compares the speed of Python and Cython implementations of a Fibonacci sequence\n",
    "\n",
    "$F_0 = 0$, $F_1 = 1$, and $F_n = F_{n-1}+F_{n-2}$"
   ]
  },
  {
   "cell_type": "code",
   "execution_count": null,
   "metadata": {},
   "outputs": [],
   "source": [
    "def py_fib(n=4):\n",
    "    p = [0, 1]\n",
    "    while len(p) < n:\n",
    "        p.append(p[-1]+p[-2])\n",
    "    return p\n",
    "\n",
    "%%cython\n",
    "def cy_fib(int n):\n",
    "    cdef int p[1000]\n",
    "    cdef int len_p = 2\n",
    "    p[0] = 0\n",
    "    p[1] = 1\n",
    "    if n > 1000:\n",
    "        n = 1000\n",
    "    while len_p < n:\n",
    "        p[len_p] = p[len_p-1]+p[len_p-2]\n",
    "        len_p += 1\n",
    "    p_list  = [pi for pi in p[:len_p]]\n",
    "    return p_list"
   ]
  },
  {
   "cell_type": "markdown",
   "metadata": {},
   "source": [
    "## [Numba](https://numba.pydata.org)\n",
    "\n",
    "Numba translates Python functions to optimized machine code at runtime using the industry-standard LLVM compiler library. Numba-compiled numerical algorithms in Python can approach the speeds of C or FORTRAN.\n",
    "\n",
    "Numba primarily supports two modes, `njit` and `jit`. The former is faster, but doesn't yet support array slicing or array creation inside jitted functions.\n",
    "\n",
    "### Example: Lennard-Jones"
   ]
  },
  {
   "cell_type": "code",
   "execution_count": null,
   "metadata": {},
   "outputs": [],
   "source": [
    "import numpy as np\n",
    "\n",
    "def lj_numpy(r):\n",
    "    sr6 = (1./r)**6\n",
    "    pot = 4.*(sr6*sr6 - sr6)\n",
    "    return pot\n",
    "\n",
    "def distances_numpy(cluster):\n",
    "    diff = cluster[:, np.newaxis, :] - cluster[np.newaxis, :, :]\n",
    "    mat = np.sqrt((diff * diff).sum(-1))\n",
    "    return mat\n",
    "\n",
    "def potential_numpy(cluster):\n",
    "    d = distances_numpy(cluster)\n",
    "    dtri = np.triu(d)\n",
    "    energy = lj_numpy(dtri[dtri > 1e-6]).sum()\n",
    "    return energy\n",
    "\n",
    "def make_cluster(natoms, radius=20, seed=1981):\n",
    "    np.random.seed(seed)\n",
    "    cluster = np.random.normal(0, radius, size=(natoms, 3)) - 0.5\n",
    "    return cluster"
   ]
  },
  {
   "cell_type": "code",
   "execution_count": null,
   "metadata": {},
   "outputs": [],
   "source": [
    "cluster = make_cluster(10000)\n",
    "%timeit potential_numpy(cluster)"
   ]
  },
  {
   "cell_type": "code",
   "execution_count": null,
   "metadata": {},
   "outputs": [],
   "source": [
    "import numpy as np\n",
    "import numba\n",
    "\n",
    "@numba.njit\n",
    "def lj_numba_array(r):\n",
    "    sr6 = (1./r)**6\n",
    "    pot = 4.*(sr6*sr6 - sr6)\n",
    "    return pot\n",
    "\n",
    "@numba.njit\n",
    "def distances_numba_array(cluster):\n",
    "    # Original: diff = cluster[:, np.newaxis, :] - cluster[np.newaxis, :, :]\n",
    "    # Since np.newaxis is not supported, use reshape to do this\n",
    "    diff = (cluster.reshape(cluster.shape[0], 1, cluster.shape[1]) -\n",
    "            cluster.reshape(1, cluster.shape[0], cluster.shape[1]))\n",
    "    mat = (diff * diff)\n",
    "    # Original: mat = mat.sum(-1)\n",
    "    # Since axis argument is not supported, write the loop out\n",
    "    out = np.empty(mat.shape[:2], dtype=mat.dtype)\n",
    "    for i in np.ndindex(out.shape):\n",
    "        out[i] = mat[i].sum()\n",
    "\n",
    "    return np.sqrt(out)\n",
    "\n",
    "@numba.njit\n",
    "def potential_numba_array(cluster):\n",
    "    d = distances_numba_array(cluster)\n",
    "    # Original: dtri = np.triu(d)\n",
    "    # np.triu is not supported; so write loop to clear the\n",
    "    # lower triangle\n",
    "    for i in range(d.shape[0]):\n",
    "        for j in range(d.shape[1]):\n",
    "            if i > j:\n",
    "                d[i, j] = 0\n",
    "    # Original: lj_numba_array(d[d > 1e-6]).sum()\n",
    "    # d[d > 1e-6] is not supported due to the indexing with boolean\n",
    "    # array.  Replace with custom loop.\n",
    "    energy = 0.0\n",
    "    for v in d.flat:\n",
    "        if v > 1e-6:\n",
    "            energy += lj_numba_array(v)\n",
    "    return energy"
   ]
  },
  {
   "cell_type": "code",
   "execution_count": null,
   "metadata": {},
   "outputs": [],
   "source": [
    "%timeit potential_numba_array(cluster)"
   ]
  },
  {
   "cell_type": "markdown",
   "metadata": {
    "tags": []
   },
   "source": [
    "### Example: A function that compares the speed of Python, Cython, and Numba implementations of a Fibonacci sequence\n",
    "\n",
    "$F_0 = 0$, $F_1 = 1$, and $F_n = F_{n-1}+F_{n-2}$ Hint: Use `jit` instead of `njit`."
   ]
  },
  {
   "cell_type": "code",
   "execution_count": null,
   "metadata": {},
   "outputs": [],
   "source": [
    "import numpy as np\n",
    "import numba as nb\n",
    "\n",
    "@nb.jit\n",
    "def py_fib(n=4):\n",
    "    p = np.zeros(n)\n",
    "    p[1] = 1\n",
    "    i = 2\n",
    "    while i < n:\n",
    "        p[i] = p[i-1]+p[i-2]\n",
    "        i += 1\n",
    "    return p"
   ]
  }
 ],
 "metadata": {
  "kernelspec": {
   "display_name": "Python 3 (ipykernel)",
   "language": "python",
   "name": "python3"
  },
  "language_info": {
   "codemirror_mode": {
    "name": "ipython",
    "version": 3
   },
   "file_extension": ".py",
   "mimetype": "text/x-python",
   "name": "python",
   "nbconvert_exporter": "python",
   "pygments_lexer": "ipython3",
   "version": "3.9.13"
  }
 },
 "nbformat": 4,
 "nbformat_minor": 4
}
